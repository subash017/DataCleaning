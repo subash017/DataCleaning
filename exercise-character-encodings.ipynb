{
 "cells": [
  {
   "cell_type": "markdown",
   "id": "9e1b54f8",
   "metadata": {
    "papermill": {
     "duration": 0.006061,
     "end_time": "2022-09-29T15:11:58.877354",
     "exception": false,
     "start_time": "2022-09-29T15:11:58.871293",
     "status": "completed"
    },
    "tags": []
   },
   "source": [
    "**This notebook is an exercise in the [Data Cleaning](https://www.kaggle.com/learn/data-cleaning) course.  You can reference the tutorial at [this link](https://www.kaggle.com/alexisbcook/character-encodings).**\n",
    "\n",
    "---\n"
   ]
  },
  {
   "cell_type": "markdown",
   "id": "d9dc4bdf",
   "metadata": {
    "papermill": {
     "duration": 0.0044,
     "end_time": "2022-09-29T15:11:58.886753",
     "exception": false,
     "start_time": "2022-09-29T15:11:58.882353",
     "status": "completed"
    },
    "tags": []
   },
   "source": [
    "In this exercise, you'll apply what you learned in the **Character encodings** tutorial.\n",
    "\n",
    "# Setup\n",
    "\n",
    "The questions below will give you feedback on your work. Run the following cell to set up the feedback system."
   ]
  },
  {
   "cell_type": "code",
   "execution_count": 1,
   "id": "5e79b121",
   "metadata": {
    "execution": {
     "iopub.execute_input": "2022-09-29T15:11:58.899231Z",
     "iopub.status.busy": "2022-09-29T15:11:58.898713Z",
     "iopub.status.idle": "2022-09-29T15:11:59.011503Z",
     "shell.execute_reply": "2022-09-29T15:11:59.010154Z"
    },
    "papermill": {
     "duration": 0.122997,
     "end_time": "2022-09-29T15:11:59.014524",
     "exception": false,
     "start_time": "2022-09-29T15:11:58.891527",
     "status": "completed"
    },
    "tags": []
   },
   "outputs": [
    {
     "name": "stdout",
     "output_type": "stream",
     "text": [
      "Setup Complete\n"
     ]
    }
   ],
   "source": [
    "from learntools.core import binder\n",
    "binder.bind(globals())\n",
    "from learntools.data_cleaning.ex4 import *\n",
    "print(\"Setup Complete\")"
   ]
  },
  {
   "cell_type": "markdown",
   "id": "f9882015",
   "metadata": {
    "papermill": {
     "duration": 0.004689,
     "end_time": "2022-09-29T15:11:59.024487",
     "exception": false,
     "start_time": "2022-09-29T15:11:59.019798",
     "status": "completed"
    },
    "tags": []
   },
   "source": [
    "# Get our environment set up\n",
    "\n",
    "The first thing we'll need to do is load in the libraries we'll be using."
   ]
  },
  {
   "cell_type": "code",
   "execution_count": 2,
   "id": "4d84a124",
   "metadata": {
    "execution": {
     "iopub.execute_input": "2022-09-29T15:11:59.036103Z",
     "iopub.status.busy": "2022-09-29T15:11:59.035666Z",
     "iopub.status.idle": "2022-09-29T15:11:59.041252Z",
     "shell.execute_reply": "2022-09-29T15:11:59.040105Z"
    },
    "papermill": {
     "duration": 0.014411,
     "end_time": "2022-09-29T15:11:59.043797",
     "exception": false,
     "start_time": "2022-09-29T15:11:59.029386",
     "status": "completed"
    },
    "tags": []
   },
   "outputs": [],
   "source": [
    "# modules we'll use\n",
    "import pandas as pd\n",
    "import numpy as np\n",
    "\n",
    "# helpful character encoding module\n",
    "import chardet\n",
    "\n",
    "# set seed for reproducibility\n",
    "np.random.seed(0)"
   ]
  },
  {
   "cell_type": "markdown",
   "id": "08ec9537",
   "metadata": {
    "papermill": {
     "duration": 0.004711,
     "end_time": "2022-09-29T15:11:59.053512",
     "exception": false,
     "start_time": "2022-09-29T15:11:59.048801",
     "status": "completed"
    },
    "tags": []
   },
   "source": [
    "# 1) What are encodings?\n",
    "\n",
    "You're working with a dataset composed of bytes.  Run the code cell below to print a sample entry."
   ]
  },
  {
   "cell_type": "code",
   "execution_count": 3,
   "id": "2a491330",
   "metadata": {
    "execution": {
     "iopub.execute_input": "2022-09-29T15:11:59.065999Z",
     "iopub.status.busy": "2022-09-29T15:11:59.064659Z",
     "iopub.status.idle": "2022-09-29T15:11:59.072297Z",
     "shell.execute_reply": "2022-09-29T15:11:59.070515Z"
    },
    "papermill": {
     "duration": 0.016777,
     "end_time": "2022-09-29T15:11:59.075233",
     "exception": false,
     "start_time": "2022-09-29T15:11:59.058456",
     "status": "completed"
    },
    "tags": []
   },
   "outputs": [
    {
     "name": "stdout",
     "output_type": "stream",
     "text": [
      "b'\\xa7A\\xa6n'\n",
      "data type: <class 'bytes'>\n"
     ]
    }
   ],
   "source": [
    "sample_entry = b'\\xa7A\\xa6n'\n",
    "print(sample_entry)\n",
    "print('data type:', type(sample_entry))"
   ]
  },
  {
   "cell_type": "markdown",
   "id": "bcfba02d",
   "metadata": {
    "papermill": {
     "duration": 0.004759,
     "end_time": "2022-09-29T15:11:59.085030",
     "exception": false,
     "start_time": "2022-09-29T15:11:59.080271",
     "status": "completed"
    },
    "tags": []
   },
   "source": [
    "You notice that it doesn't use the standard UTF-8 encoding. \n",
    "\n",
    "Use the next code cell to create a variable `new_entry` that changes the encoding from `\"big5-tw\"` to `\"utf-8\"`.  `new_entry` should have the bytes datatype."
   ]
  },
  {
   "cell_type": "code",
   "execution_count": 4,
   "id": "2b858e50",
   "metadata": {
    "execution": {
     "iopub.execute_input": "2022-09-29T15:11:59.097545Z",
     "iopub.status.busy": "2022-09-29T15:11:59.096374Z",
     "iopub.status.idle": "2022-09-29T15:11:59.109019Z",
     "shell.execute_reply": "2022-09-29T15:11:59.107729Z"
    },
    "papermill": {
     "duration": 0.0214,
     "end_time": "2022-09-29T15:11:59.111459",
     "exception": false,
     "start_time": "2022-09-29T15:11:59.090059",
     "status": "completed"
    },
    "tags": []
   },
   "outputs": [
    {
     "data": {
      "application/javascript": [
       "parent.postMessage({\"jupyterEvent\": \"custom.exercise_interaction\", \"data\": {\"outcomeType\": 1, \"valueTowardsCompletion\": 0.3333333333333333, \"interactionType\": 1, \"questionType\": 1, \"questionId\": \"1_EncodingsIntro\", \"learnToolsVersion\": \"0.3.4\", \"failureMessage\": \"\", \"exceptionClass\": \"\", \"trace\": \"\"}}, \"*\")"
      ],
      "text/plain": [
       "<IPython.core.display.Javascript object>"
      ]
     },
     "metadata": {},
     "output_type": "display_data"
    },
    {
     "data": {
      "text/markdown": [
       "<span style=\"color:#33cc33\">Correct</span>"
      ],
      "text/plain": [
       "Correct"
      ]
     },
     "metadata": {},
     "output_type": "display_data"
    }
   ],
   "source": [
    "old_entry = sample_entry.decode(\"big5-tw\")\n",
    "new_entry = old_entry.encode()\n",
    "\n",
    "# Check your answer\n",
    "q1.check()"
   ]
  },
  {
   "cell_type": "code",
   "execution_count": 5,
   "id": "7bb57bf2",
   "metadata": {
    "execution": {
     "iopub.execute_input": "2022-09-29T15:11:59.124234Z",
     "iopub.status.busy": "2022-09-29T15:11:59.123337Z",
     "iopub.status.idle": "2022-09-29T15:11:59.127726Z",
     "shell.execute_reply": "2022-09-29T15:11:59.126577Z"
    },
    "papermill": {
     "duration": 0.01344,
     "end_time": "2022-09-29T15:11:59.130228",
     "exception": false,
     "start_time": "2022-09-29T15:11:59.116788",
     "status": "completed"
    },
    "tags": []
   },
   "outputs": [],
   "source": [
    "# Lines below will give you a hint or solution code\n",
    "#q1.hint()\n",
    "#q1.solution()"
   ]
  },
  {
   "cell_type": "markdown",
   "id": "142c0796",
   "metadata": {
    "papermill": {
     "duration": 0.005405,
     "end_time": "2022-09-29T15:11:59.141118",
     "exception": false,
     "start_time": "2022-09-29T15:11:59.135713",
     "status": "completed"
    },
    "tags": []
   },
   "source": [
    "# 2) Reading in files with encoding problems\n",
    "\n",
    "Use the code cell below to read in this file at path `\"../input/fatal-police-shootings-in-the-us/PoliceKillingsUS.csv\"`.  \n",
    "\n",
    "Figure out what the correct encoding should be and read in the file to a DataFrame `police_killings`."
   ]
  },
  {
   "cell_type": "code",
   "execution_count": 6,
   "id": "1dee7548",
   "metadata": {
    "execution": {
     "iopub.execute_input": "2022-09-29T15:11:59.155017Z",
     "iopub.status.busy": "2022-09-29T15:11:59.154233Z",
     "iopub.status.idle": "2022-09-29T15:11:59.181451Z",
     "shell.execute_reply": "2022-09-29T15:11:59.180128Z"
    },
    "papermill": {
     "duration": 0.036768,
     "end_time": "2022-09-29T15:11:59.184127",
     "exception": false,
     "start_time": "2022-09-29T15:11:59.147359",
     "status": "completed"
    },
    "tags": []
   },
   "outputs": [
    {
     "data": {
      "application/javascript": [
       "parent.postMessage({\"jupyterEvent\": \"custom.exercise_interaction\", \"data\": {\"outcomeType\": 1, \"valueTowardsCompletion\": 0.3333333333333333, \"interactionType\": 1, \"questionType\": 1, \"questionId\": \"2_ReadIn\", \"learnToolsVersion\": \"0.3.4\", \"failureMessage\": \"\", \"exceptionClass\": \"\", \"trace\": \"\"}}, \"*\")"
      ],
      "text/plain": [
       "<IPython.core.display.Javascript object>"
      ]
     },
     "metadata": {},
     "output_type": "display_data"
    },
    {
     "data": {
      "text/markdown": [
       "<span style=\"color:#33cc33\">Correct</span>"
      ],
      "text/plain": [
       "Correct"
      ]
     },
     "metadata": {},
     "output_type": "display_data"
    }
   ],
   "source": [
    "# TODO: Load in the DataFrame correctly.\n",
    "police_killings = pd.read_csv(\"../input/fatal-police-shootings-in-the-us/PoliceKillingsUS.csv\", encoding='Windows-1252')\n",
    "\n",
    "# Check your answer\n",
    "q2.check()"
   ]
  },
  {
   "cell_type": "markdown",
   "id": "cbaab94a",
   "metadata": {
    "papermill": {
     "duration": 0.005054,
     "end_time": "2022-09-29T15:11:59.194738",
     "exception": false,
     "start_time": "2022-09-29T15:11:59.189684",
     "status": "completed"
    },
    "tags": []
   },
   "source": [
    "Feel free to use any additional code cells for supplemental work.  To get credit for finishing this question, you'll need to run `q2.check()` and get a result of **Correct**."
   ]
  },
  {
   "cell_type": "code",
   "execution_count": 7,
   "id": "e65ff3d0",
   "metadata": {
    "execution": {
     "iopub.execute_input": "2022-09-29T15:11:59.207662Z",
     "iopub.status.busy": "2022-09-29T15:11:59.207008Z",
     "iopub.status.idle": "2022-09-29T15:11:59.211090Z",
     "shell.execute_reply": "2022-09-29T15:11:59.210234Z"
    },
    "papermill": {
     "duration": 0.013149,
     "end_time": "2022-09-29T15:11:59.213238",
     "exception": false,
     "start_time": "2022-09-29T15:11:59.200089",
     "status": "completed"
    },
    "tags": []
   },
   "outputs": [],
   "source": [
    "# (Optional) Use this code cell for any additional work."
   ]
  },
  {
   "cell_type": "code",
   "execution_count": 8,
   "id": "acbdd463",
   "metadata": {
    "execution": {
     "iopub.execute_input": "2022-09-29T15:11:59.227017Z",
     "iopub.status.busy": "2022-09-29T15:11:59.226386Z",
     "iopub.status.idle": "2022-09-29T15:11:59.230292Z",
     "shell.execute_reply": "2022-09-29T15:11:59.229226Z"
    },
    "papermill": {
     "duration": 0.012856,
     "end_time": "2022-09-29T15:11:59.232539",
     "exception": false,
     "start_time": "2022-09-29T15:11:59.219683",
     "status": "completed"
    },
    "tags": []
   },
   "outputs": [],
   "source": [
    "# Lines below will give you a hint or solution code\n",
    "#q2.hint()\n",
    "#q2.solution()"
   ]
  },
  {
   "cell_type": "markdown",
   "id": "06aed4b0",
   "metadata": {
    "papermill": {
     "duration": 0.005061,
     "end_time": "2022-09-29T15:11:59.243015",
     "exception": false,
     "start_time": "2022-09-29T15:11:59.237954",
     "status": "completed"
    },
    "tags": []
   },
   "source": [
    "# 3) Saving your files with UTF-8 encoding\n",
    "\n",
    "Save a version of the police killings dataset to CSV with UTF-8 encoding.  Your answer will be marked correct after saving this file.  \n",
    "\n",
    "Note: When using the `to_csv()` method, supply only the name of the file (e.g., `\"my_file.csv\"`).  This saves the file at the filepath `\"/kaggle/working/my_file.csv\"`."
   ]
  },
  {
   "cell_type": "code",
   "execution_count": 9,
   "id": "5464fead",
   "metadata": {
    "execution": {
     "iopub.execute_input": "2022-09-29T15:11:59.256032Z",
     "iopub.status.busy": "2022-09-29T15:11:59.255340Z",
     "iopub.status.idle": "2022-09-29T15:11:59.292896Z",
     "shell.execute_reply": "2022-09-29T15:11:59.291732Z"
    },
    "papermill": {
     "duration": 0.047018,
     "end_time": "2022-09-29T15:11:59.295452",
     "exception": false,
     "start_time": "2022-09-29T15:11:59.248434",
     "status": "completed"
    },
    "tags": []
   },
   "outputs": [
    {
     "data": {
      "application/javascript": [
       "parent.postMessage({\"jupyterEvent\": \"custom.exercise_interaction\", \"data\": {\"outcomeType\": 1, \"valueTowardsCompletion\": 0.3333333333333333, \"interactionType\": 1, \"questionType\": 2, \"questionId\": \"3_SaveCSV\", \"learnToolsVersion\": \"0.3.4\", \"failureMessage\": \"\", \"exceptionClass\": \"\", \"trace\": \"\"}}, \"*\")"
      ],
      "text/plain": [
       "<IPython.core.display.Javascript object>"
      ]
     },
     "metadata": {},
     "output_type": "display_data"
    },
    {
     "data": {
      "text/markdown": [
       "<span style=\"color:#33cc33\">Correct</span>"
      ],
      "text/plain": [
       "Correct"
      ]
     },
     "metadata": {},
     "output_type": "display_data"
    }
   ],
   "source": [
    "# TODO: Save the police killings dataset to CSV\n",
    "police_killings.to_csv(\"my_file.csv\")\n",
    "\n",
    "# Check your answer\n",
    "q3.check()"
   ]
  },
  {
   "cell_type": "code",
   "execution_count": 10,
   "id": "8b11ab10",
   "metadata": {
    "execution": {
     "iopub.execute_input": "2022-09-29T15:11:59.309144Z",
     "iopub.status.busy": "2022-09-29T15:11:59.308452Z",
     "iopub.status.idle": "2022-09-29T15:11:59.313319Z",
     "shell.execute_reply": "2022-09-29T15:11:59.312136Z"
    },
    "papermill": {
     "duration": 0.014687,
     "end_time": "2022-09-29T15:11:59.315895",
     "exception": false,
     "start_time": "2022-09-29T15:11:59.301208",
     "status": "completed"
    },
    "tags": []
   },
   "outputs": [],
   "source": [
    "# Lines below will give you a hint or solution code\n",
    "#q3.hint()\n",
    "#q3.solution()"
   ]
  },
  {
   "cell_type": "markdown",
   "id": "394d2a33",
   "metadata": {
    "papermill": {
     "duration": 0.00536,
     "end_time": "2022-09-29T15:11:59.326986",
     "exception": false,
     "start_time": "2022-09-29T15:11:59.321626",
     "status": "completed"
    },
    "tags": []
   },
   "source": [
    "# (Optional) More practice\n",
    "\n",
    "Check out [this dataset of files in different character encodings](https://www.kaggle.com/rtatman/character-encoding-examples). Can you read in all the files with their original encodings and them save them out as UTF-8 files?\n",
    "\n",
    "If you have a file that's in UTF-8 but has just a couple of weird-looking characters in it, you can try out the [ftfy module](https://ftfy.readthedocs.io/en/latest/#) and see if it helps. \n",
    "\n",
    "# Keep going\n",
    "\n",
    "In the final lesson, learn how to [**clean up inconsistent text entries**](https://www.kaggle.com/alexisbcook/inconsistent-data-entry) in your dataset."
   ]
  },
  {
   "cell_type": "markdown",
   "id": "4029ec2b",
   "metadata": {
    "papermill": {
     "duration": 0.005231,
     "end_time": "2022-09-29T15:11:59.337854",
     "exception": false,
     "start_time": "2022-09-29T15:11:59.332623",
     "status": "completed"
    },
    "tags": []
   },
   "source": [
    "---\n",
    "\n",
    "\n",
    "\n",
    "\n",
    "*Have questions or comments? Visit the [course discussion forum](https://www.kaggle.com/learn/data-cleaning/discussion) to chat with other learners.*"
   ]
  }
 ],
 "metadata": {
  "kernelspec": {
   "display_name": "Python 3",
   "language": "python",
   "name": "python3"
  },
  "language_info": {
   "codemirror_mode": {
    "name": "ipython",
    "version": 3
   },
   "file_extension": ".py",
   "mimetype": "text/x-python",
   "name": "python",
   "nbconvert_exporter": "python",
   "pygments_lexer": "ipython3",
   "version": "3.7.12"
  },
  "papermill": {
   "default_parameters": {},
   "duration": 12.270205,
   "end_time": "2022-09-29T15:12:00.067912",
   "environment_variables": {},
   "exception": null,
   "input_path": "__notebook__.ipynb",
   "output_path": "__notebook__.ipynb",
   "parameters": {},
   "start_time": "2022-09-29T15:11:47.797707",
   "version": "2.3.4"
  }
 },
 "nbformat": 4,
 "nbformat_minor": 5
}
