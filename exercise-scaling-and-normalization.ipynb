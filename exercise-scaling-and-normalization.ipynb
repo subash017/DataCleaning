{
 "cells": [
  {
   "cell_type": "markdown",
   "id": "b544c65a",
   "metadata": {
    "papermill": {
     "duration": 0.006185,
     "end_time": "2022-09-29T14:55:13.115578",
     "exception": false,
     "start_time": "2022-09-29T14:55:13.109393",
     "status": "completed"
    },
    "tags": []
   },
   "source": [
    "**This notebook is an exercise in the [Data Cleaning](https://www.kaggle.com/learn/data-cleaning) course.  You can reference the tutorial at [this link](https://www.kaggle.com/alexisbcook/scaling-and-normalization).**\n",
    "\n",
    "---\n"
   ]
  },
  {
   "cell_type": "markdown",
   "id": "3065d26f",
   "metadata": {
    "papermill": {
     "duration": 0.004707,
     "end_time": "2022-09-29T14:55:13.125358",
     "exception": false,
     "start_time": "2022-09-29T14:55:13.120651",
     "status": "completed"
    },
    "tags": []
   },
   "source": [
    "In this exercise, you'll apply what you learned in the **Scaling and normalization** tutorial.\n",
    "\n",
    "# Setup\n",
    "\n",
    "The questions below will give you feedback on your work. Run the following cell to set up the feedback system."
   ]
  },
  {
   "cell_type": "code",
   "execution_count": 1,
   "id": "f7f2b91e",
   "metadata": {
    "execution": {
     "iopub.execute_input": "2022-09-29T14:55:13.137186Z",
     "iopub.status.busy": "2022-09-29T14:55:13.136746Z",
     "iopub.status.idle": "2022-09-29T14:55:16.367247Z",
     "shell.execute_reply": "2022-09-29T14:55:16.366239Z"
    },
    "papermill": {
     "duration": 3.239532,
     "end_time": "2022-09-29T14:55:16.369806",
     "exception": false,
     "start_time": "2022-09-29T14:55:13.130274",
     "status": "completed"
    },
    "tags": []
   },
   "outputs": [
    {
     "name": "stdout",
     "output_type": "stream",
     "text": [
      "Setup Complete\n"
     ]
    }
   ],
   "source": [
    "from learntools.core import binder\n",
    "binder.bind(globals())\n",
    "from learntools.data_cleaning.ex2 import *\n",
    "print(\"Setup Complete\")"
   ]
  },
  {
   "cell_type": "markdown",
   "id": "cac494ca",
   "metadata": {
    "papermill": {
     "duration": 0.004556,
     "end_time": "2022-09-29T14:55:16.379401",
     "exception": false,
     "start_time": "2022-09-29T14:55:16.374845",
     "status": "completed"
    },
    "tags": []
   },
   "source": [
    "# Get our environment set up\n",
    "\n",
    "To practice scaling and normalization, we're going to use a [dataset of Kickstarter campaigns](https://www.kaggle.com/kemical/kickstarter-projects). (Kickstarter is a website where people can ask people to invest in various projects and concept products.)\n",
    "\n",
    "The next code cell loads in the libraries and dataset we'll be using. "
   ]
  },
  {
   "cell_type": "code",
   "execution_count": 2,
   "id": "810b231e",
   "metadata": {
    "execution": {
     "iopub.execute_input": "2022-09-29T14:55:16.390317Z",
     "iopub.status.busy": "2022-09-29T14:55:16.389965Z",
     "iopub.status.idle": "2022-09-29T14:55:17.666918Z",
     "shell.execute_reply": "2022-09-29T14:55:17.666056Z"
    },
    "papermill": {
     "duration": 1.285662,
     "end_time": "2022-09-29T14:55:17.669758",
     "exception": false,
     "start_time": "2022-09-29T14:55:16.384096",
     "status": "completed"
    },
    "tags": []
   },
   "outputs": [],
   "source": [
    "# modules we'll use\n",
    "import pandas as pd\n",
    "import numpy as np\n",
    "\n",
    "# for Box-Cox Transformation\n",
    "from scipy import stats\n",
    "\n",
    "# for min_max scaling\n",
    "from mlxtend.preprocessing import minmax_scaling\n",
    "\n",
    "# plotting modules\n",
    "import seaborn as sns\n",
    "import matplotlib.pyplot as plt\n",
    "\n",
    "# read in all our data\n",
    "kickstarters_2017 = pd.read_csv(\"../input/kickstarter-projects/ks-projects-201801.csv\")\n",
    "\n",
    "# set seed for reproducibility\n",
    "np.random.seed(0)"
   ]
  },
  {
   "cell_type": "markdown",
   "id": "a17ef17a",
   "metadata": {
    "papermill": {
     "duration": 0.004683,
     "end_time": "2022-09-29T14:55:17.679745",
     "exception": false,
     "start_time": "2022-09-29T14:55:17.675062",
     "status": "completed"
    },
    "tags": []
   },
   "source": [
    "Let's start by scaling the goals of each campaign, which is how much money they were asking for.  After scaling, all values lie between 0 and 1."
   ]
  },
  {
   "cell_type": "code",
   "execution_count": 3,
   "id": "176a48e7",
   "metadata": {
    "execution": {
     "iopub.execute_input": "2022-09-29T14:55:17.691038Z",
     "iopub.status.busy": "2022-09-29T14:55:17.690710Z",
     "iopub.status.idle": "2022-09-29T14:55:17.727614Z",
     "shell.execute_reply": "2022-09-29T14:55:17.726422Z"
    },
    "papermill": {
     "duration": 0.045461,
     "end_time": "2022-09-29T14:55:17.730126",
     "exception": false,
     "start_time": "2022-09-29T14:55:17.684665",
     "status": "completed"
    },
    "tags": []
   },
   "outputs": [
    {
     "name": "stdout",
     "output_type": "stream",
     "text": [
      "Original data\n",
      "Preview:\n",
      "    usd_goal_real\n",
      "0        1533.95\n",
      "1       30000.00\n",
      "2       45000.00\n",
      "3        5000.00\n",
      "4       19500.00\n",
      "Minimum value: 0.01 \n",
      "Maximum value: 166361390.71\n",
      "______________________________\n",
      "\n",
      "Scaled data\n",
      "Preview:\n",
      "    usd_goal_real\n",
      "0       0.000009\n",
      "1       0.000180\n",
      "2       0.000270\n",
      "3       0.000030\n",
      "4       0.000117\n",
      "Minimum value: 0.0 \n",
      "Maximum value: 1.0\n"
     ]
    }
   ],
   "source": [
    "# select the usd_goal_real column\n",
    "original_data = pd.DataFrame(kickstarters_2017.usd_goal_real)\n",
    "\n",
    "# scale the goals from 0 to 1\n",
    "scaled_data = minmax_scaling(original_data, columns=['usd_goal_real'])\n",
    "\n",
    "print('Original data\\nPreview:\\n', original_data.head())\n",
    "print('Minimum value:', float(original_data.min()),\n",
    "      '\\nMaximum value:', float(original_data.max()))\n",
    "print('_'*30)\n",
    "\n",
    "print('\\nScaled data\\nPreview:\\n', scaled_data.head())\n",
    "print('Minimum value:', float(scaled_data.min()),\n",
    "      '\\nMaximum value:', float(scaled_data.max()))"
   ]
  },
  {
   "cell_type": "markdown",
   "id": "18ce7d41",
   "metadata": {
    "papermill": {
     "duration": 0.004689,
     "end_time": "2022-09-29T14:55:17.740005",
     "exception": false,
     "start_time": "2022-09-29T14:55:17.735316",
     "status": "completed"
    },
    "tags": []
   },
   "source": [
    "# 1) Practice scaling\n",
    "\n",
    "We just scaled the \"usd_goal_real\" column. What about the \"goal\" column?\n",
    "\n",
    "Begin by running the code cell below to create a DataFrame `original_goal_data` containing the \"goal\" column."
   ]
  },
  {
   "cell_type": "code",
   "execution_count": 4,
   "id": "29f7d1c6",
   "metadata": {
    "execution": {
     "iopub.execute_input": "2022-09-29T14:55:17.750974Z",
     "iopub.status.busy": "2022-09-29T14:55:17.750655Z",
     "iopub.status.idle": "2022-09-29T14:55:17.755691Z",
     "shell.execute_reply": "2022-09-29T14:55:17.754742Z"
    },
    "papermill": {
     "duration": 0.013035,
     "end_time": "2022-09-29T14:55:17.757900",
     "exception": false,
     "start_time": "2022-09-29T14:55:17.744865",
     "status": "completed"
    },
    "tags": []
   },
   "outputs": [],
   "source": [
    "# select the usd_goal_real column\n",
    "original_goal_data = pd.DataFrame(kickstarters_2017.goal)"
   ]
  },
  {
   "cell_type": "markdown",
   "id": "51d275cb",
   "metadata": {
    "papermill": {
     "duration": 0.004725,
     "end_time": "2022-09-29T14:55:17.767344",
     "exception": false,
     "start_time": "2022-09-29T14:55:17.762619",
     "status": "completed"
    },
    "tags": []
   },
   "source": [
    "Use `original_goal_data` to create a new DataFrame `scaled_goal_data` with values scaled between 0 and 1. You must use the `minmax_scaling()` function."
   ]
  },
  {
   "cell_type": "code",
   "execution_count": 5,
   "id": "1980f4ac",
   "metadata": {
    "execution": {
     "iopub.execute_input": "2022-09-29T14:55:17.778638Z",
     "iopub.status.busy": "2022-09-29T14:55:17.777614Z",
     "iopub.status.idle": "2022-09-29T14:55:17.806955Z",
     "shell.execute_reply": "2022-09-29T14:55:17.805990Z"
    },
    "papermill": {
     "duration": 0.03715,
     "end_time": "2022-09-29T14:55:17.808982",
     "exception": false,
     "start_time": "2022-09-29T14:55:17.771832",
     "status": "completed"
    },
    "tags": []
   },
   "outputs": [
    {
     "data": {
      "application/javascript": [
       "parent.postMessage({\"jupyterEvent\": \"custom.exercise_interaction\", \"data\": {\"outcomeType\": 1, \"valueTowardsCompletion\": 0.3333333333333333, \"interactionType\": 1, \"questionType\": 1, \"questionId\": \"1_TryScaling\", \"learnToolsVersion\": \"0.3.4\", \"failureMessage\": \"\", \"exceptionClass\": \"\", \"trace\": \"\"}}, \"*\")"
      ],
      "text/plain": [
       "<IPython.core.display.Javascript object>"
      ]
     },
     "metadata": {},
     "output_type": "display_data"
    },
    {
     "data": {
      "text/markdown": [
       "<span style=\"color:#33cc33\">Correct</span>"
      ],
      "text/plain": [
       "Correct"
      ]
     },
     "metadata": {},
     "output_type": "display_data"
    }
   ],
   "source": [
    "# TODO: Your code here\n",
    "scaled_goal_data = minmax_scaling(original_goal_data, columns=['goal'])\n",
    "\n",
    "\n",
    "# Check your answer\n",
    "q1.check()"
   ]
  },
  {
   "cell_type": "code",
   "execution_count": 6,
   "id": "8cc8a4de",
   "metadata": {
    "execution": {
     "iopub.execute_input": "2022-09-29T14:55:17.821260Z",
     "iopub.status.busy": "2022-09-29T14:55:17.820939Z",
     "iopub.status.idle": "2022-09-29T14:55:17.825355Z",
     "shell.execute_reply": "2022-09-29T14:55:17.824253Z"
    },
    "papermill": {
     "duration": 0.013653,
     "end_time": "2022-09-29T14:55:17.827611",
     "exception": false,
     "start_time": "2022-09-29T14:55:17.813958",
     "status": "completed"
    },
    "tags": []
   },
   "outputs": [],
   "source": [
    "# Lines below will give you a hint or solution code\n",
    "#q1.hint()\n",
    "#q1.solution()"
   ]
  },
  {
   "cell_type": "markdown",
   "id": "4310f28b",
   "metadata": {
    "papermill": {
     "duration": 0.004871,
     "end_time": "2022-09-29T14:55:17.837440",
     "exception": false,
     "start_time": "2022-09-29T14:55:17.832569",
     "status": "completed"
    },
    "tags": []
   },
   "source": [
    "# 2) Practice normalization\n",
    "\n",
    "Now you'll practice normalization. We begin by normalizing the amount of money pledged to each campaign."
   ]
  },
  {
   "cell_type": "code",
   "execution_count": 7,
   "id": "1c340d14",
   "metadata": {
    "execution": {
     "iopub.execute_input": "2022-09-29T14:55:17.849683Z",
     "iopub.status.busy": "2022-09-29T14:55:17.848756Z",
     "iopub.status.idle": "2022-09-29T14:55:18.060171Z",
     "shell.execute_reply": "2022-09-29T14:55:18.057884Z"
    },
    "papermill": {
     "duration": 0.219993,
     "end_time": "2022-09-29T14:55:18.062265",
     "exception": false,
     "start_time": "2022-09-29T14:55:17.842272",
     "status": "completed"
    },
    "tags": []
   },
   "outputs": [
    {
     "name": "stdout",
     "output_type": "stream",
     "text": [
      "Original data\n",
      "Preview:\n",
      " 1     2421.0\n",
      "2      220.0\n",
      "3        1.0\n",
      "4     1283.0\n",
      "5    52375.0\n",
      "Name: usd_pledged_real, dtype: float64\n",
      "Minimum value: 0.45 \n",
      "Maximum value: 20338986.27\n",
      "______________________________\n",
      "\n",
      "Normalized data\n",
      "Preview:\n",
      " 1    10.165142\n",
      "2     6.468598\n",
      "3     0.000000\n",
      "4     9.129277\n",
      "5    15.836853\n",
      "Name: usd_pledged_real, dtype: float64\n",
      "Minimum value: -0.7779954122762203 \n",
      "Maximum value: 30.69054020451361\n"
     ]
    }
   ],
   "source": [
    "# get the index of all positive pledges (Box-Cox only takes positive values)\n",
    "index_of_positive_pledges = kickstarters_2017.usd_pledged_real > 0\n",
    "\n",
    "# get only positive pledges (using their indexes)\n",
    "positive_pledges = kickstarters_2017.usd_pledged_real.loc[index_of_positive_pledges]\n",
    "\n",
    "# normalize the pledges (w/ Box-Cox)\n",
    "normalized_pledges = pd.Series(stats.boxcox(positive_pledges)[0], \n",
    "                               name='usd_pledged_real', index=positive_pledges.index)\n",
    "\n",
    "print('Original data\\nPreview:\\n', positive_pledges.head())\n",
    "print('Minimum value:', float(positive_pledges.min()),\n",
    "      '\\nMaximum value:', float(positive_pledges.max()))\n",
    "print('_'*30)\n",
    "\n",
    "print('\\nNormalized data\\nPreview:\\n', normalized_pledges.head())\n",
    "print('Minimum value:', float(normalized_pledges.min()),\n",
    "      '\\nMaximum value:', float(normalized_pledges.max()))"
   ]
  },
  {
   "cell_type": "markdown",
   "id": "81813eff",
   "metadata": {
    "papermill": {
     "duration": 0.004766,
     "end_time": "2022-09-29T14:55:18.072431",
     "exception": false,
     "start_time": "2022-09-29T14:55:18.067665",
     "status": "completed"
    },
    "tags": []
   },
   "source": [
    "The values have changed significantly with normalization!\n",
    "\n",
    "In the next code cell, you'll take a look at the distribution of the normalized data, where it should now resemble a normal distribution."
   ]
  },
  {
   "cell_type": "code",
   "execution_count": 8,
   "id": "8517b45f",
   "metadata": {
    "execution": {
     "iopub.execute_input": "2022-09-29T14:55:18.084242Z",
     "iopub.status.busy": "2022-09-29T14:55:18.083851Z",
     "iopub.status.idle": "2022-09-29T14:55:20.103428Z",
     "shell.execute_reply": "2022-09-29T14:55:20.102491Z"
    },
    "papermill": {
     "duration": 2.02853,
     "end_time": "2022-09-29T14:55:20.106025",
     "exception": false,
     "start_time": "2022-09-29T14:55:18.077495",
     "status": "completed"
    },
    "tags": []
   },
   "outputs": [
    {
     "data": {
      "image/png": "[encoded data removed]",
      "text/plain": [
       "<Figure size 432x288 with 1 Axes>"
      ]
     },
     "metadata": {
      "needs_background": "light"
     },
     "output_type": "display_data"
    }
   ],
   "source": [
    "# plot normalized data\n",
    "ax = sns.histplot(normalized_pledges, kde=True)\n",
    "ax.set_title(\"Normalized data\")\n",
    "plt.show()"
   ]
  },
  {
   "cell_type": "markdown",
   "id": "4c9f2f6f",
   "metadata": {
    "papermill": {
     "duration": 0.005603,
     "end_time": "2022-09-29T14:55:20.117520",
     "exception": false,
     "start_time": "2022-09-29T14:55:20.111917",
     "status": "completed"
    },
    "tags": []
   },
   "source": [
    "We used the \"usd_pledged_real\" column. Follow the same process to normalize the \"pledged\" column. "
   ]
  },
  {
   "cell_type": "code",
   "execution_count": 9,
   "id": "411e08d1",
   "metadata": {
    "execution": {
     "iopub.execute_input": "2022-09-29T14:55:20.130027Z",
     "iopub.status.busy": "2022-09-29T14:55:20.129700Z",
     "iopub.status.idle": "2022-09-29T14:55:20.139363Z",
     "shell.execute_reply": "2022-09-29T14:55:20.138590Z"
    },
    "papermill": {
     "duration": 0.018139,
     "end_time": "2022-09-29T14:55:20.141209",
     "exception": false,
     "start_time": "2022-09-29T14:55:20.123070",
     "status": "completed"
    },
    "tags": []
   },
   "outputs": [],
   "source": [
    "index_of_pledges = kickstarters_2017.pledged > 0\n",
    "positive_pledges = kickstarters_2017.pledged.loc[index_of_pledges]\n"
   ]
  },
  {
   "cell_type": "markdown",
   "id": "98024229",
   "metadata": {
    "papermill": {
     "duration": 0.005309,
     "end_time": "2022-09-29T14:55:20.152063",
     "exception": false,
     "start_time": "2022-09-29T14:55:20.146754",
     "status": "completed"
    },
    "tags": []
   },
   "source": [
    "How does the normalized \"usd_pledged_real\" column look different from when we normalized the \"pledged\" column?  Or, do they look mostly the same?\n",
    "\n",
    "Once you have an answer, run the code cell below."
   ]
  },
  {
   "cell_type": "code",
   "execution_count": 10,
   "id": "8c5df544",
   "metadata": {
    "execution": {
     "iopub.execute_input": "2022-09-29T14:55:20.164617Z",
     "iopub.status.busy": "2022-09-29T14:55:20.164005Z",
     "iopub.status.idle": "2022-09-29T14:55:20.171249Z",
     "shell.execute_reply": "2022-09-29T14:55:20.170595Z"
    },
    "papermill": {
     "duration": 0.015411,
     "end_time": "2022-09-29T14:55:20.173105",
     "exception": false,
     "start_time": "2022-09-29T14:55:20.157694",
     "status": "completed"
    },
    "tags": []
   },
   "outputs": [
    {
     "data": {
      "application/javascript": [
       "parent.postMessage({\"jupyterEvent\": \"custom.exercise_interaction\", \"data\": {\"outcomeType\": 1, \"valueTowardsCompletion\": 0.3333333333333333, \"interactionType\": 1, \"questionType\": 4, \"questionId\": \"2_TryNormalization\", \"learnToolsVersion\": \"0.3.4\", \"failureMessage\": \"\", \"exceptionClass\": \"\", \"trace\": \"\"}}, \"*\")"
      ],
      "text/plain": [
       "<IPython.core.display.Javascript object>"
      ]
     },
     "metadata": {},
     "output_type": "display_data"
    },
    {
     "data": {
      "text/markdown": [
       "<span style=\"color:#33cc33\">Correct:</span> \n",
       "\n",
       "The distributions in the normalized data look mostly the same."
      ],
      "text/plain": [
       "Correct: \n",
       "\n",
       "The distributions in the normalized data look mostly the same."
      ]
     },
     "metadata": {},
     "output_type": "display_data"
    }
   ],
   "source": [
    "# Check your answer (Run this code cell to receive credit!)\n",
    "q2.check()"
   ]
  },
  {
   "cell_type": "code",
   "execution_count": 11,
   "id": "4befada6",
   "metadata": {
    "execution": {
     "iopub.execute_input": "2022-09-29T14:55:20.186457Z",
     "iopub.status.busy": "2022-09-29T14:55:20.185891Z",
     "iopub.status.idle": "2022-09-29T14:55:20.189147Z",
     "shell.execute_reply": "2022-09-29T14:55:20.188520Z"
    },
    "papermill": {
     "duration": 0.012071,
     "end_time": "2022-09-29T14:55:20.190901",
     "exception": false,
     "start_time": "2022-09-29T14:55:20.178830",
     "status": "completed"
    },
    "tags": []
   },
   "outputs": [],
   "source": [
    "# Line below will give you a hint\n",
    "#q2.hint()"
   ]
  },
  {
   "cell_type": "markdown",
   "id": "757d24f6",
   "metadata": {
    "papermill": {
     "duration": 0.005605,
     "end_time": "2022-09-29T14:55:20.202247",
     "exception": false,
     "start_time": "2022-09-29T14:55:20.196642",
     "status": "completed"
    },
    "tags": []
   },
   "source": [
    "# (Optional) More practice\n",
    "\n",
    "Try finding a new dataset and pretend you're preparing to perform a [regression analysis](https://www.kaggle.com/rtatman/the-5-day-regression-challenge). \n",
    "\n",
    "[These datasets are a good start!](https://www.kaggle.com/rtatman/datasets-for-regression-analysis)\n",
    "\n",
    "Pick three or four variables and decide if you need to normalize or scale any of them and, if you think you should, practice applying the correct technique.\n",
    "\n",
    "# Keep going\n",
    "\n",
    "In the next lesson, learn how to [**parse dates**](https://www.kaggle.com/alexisbcook/parsing-dates) in a dataset."
   ]
  },
  {
   "cell_type": "markdown",
   "id": "063613c9",
   "metadata": {
    "papermill": {
     "duration": 0.005519,
     "end_time": "2022-09-29T14:55:20.213905",
     "exception": false,
     "start_time": "2022-09-29T14:55:20.208386",
     "status": "completed"
    },
    "tags": []
   },
   "source": [
    "---\n",
    "\n",
    "\n",
    "\n",
    "\n",
    "*Have questions or comments? Visit the [course discussion forum](https://www.kaggle.com/learn/data-cleaning/discussion) to chat with other learners.*"
   ]
  }
 ],
 "metadata": {
  "kernelspec": {
   "display_name": "Python 3",
   "language": "python",
   "name": "python3"
  },
  "language_info": {
   "codemirror_mode": {
    "name": "ipython",
    "version": 3
   },
   "file_extension": ".py",
   "mimetype": "text/x-python",
   "name": "python",
   "nbconvert_exporter": "python",
   "pygments_lexer": "ipython3",
   "version": "3.7.12"
  },
  "papermill": {
   "default_parameters": {},
   "duration": 15.992427,
   "end_time": "2022-09-29T14:55:20.940314",
   "environment_variables": {},
   "exception": null,
   "input_path": "__notebook__.ipynb",
   "output_path": "__notebook__.ipynb",
   "parameters": {},
   "start_time": "2022-09-29T14:55:04.947887",
   "version": "2.3.4"
  }
 },
 "nbformat": 4,
 "nbformat_minor": 5
}
